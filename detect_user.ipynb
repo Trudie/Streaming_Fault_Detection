{
 "cells": [
  {
   "cell_type": "code",
   "execution_count": 75,
   "metadata": {},
   "outputs": [],
   "source": [
    "import pandas as pd\n",
    "import numpy as np\n",
    "from sklearn.ensemble import RandomForestClassifier\n",
    "from sklearn.model_selection import train_test_split\n",
    "from sklearn import preprocessing\n",
    "from sklearn.metrics import confusion_matrix"
   ]
  },
  {
   "cell_type": "code",
   "execution_count": 5,
   "metadata": {},
   "outputs": [],
   "source": [
    "data_path = '/disk/ru'\n",
    "abnormal_user = pd.read_csv(os.path.join(data_path, 'abnormal_user'),header=None)\n",
    "users = pd.read_json(os.path.join(data_path, 'users'), lines=True)"
   ]
  },
  {
   "cell_type": "code",
   "execution_count": 6,
   "metadata": {},
   "outputs": [
    {
     "data": {
      "text/html": [
       "<div>\n",
       "<style scoped>\n",
       "    .dataframe tbody tr th:only-of-type {\n",
       "        vertical-align: middle;\n",
       "    }\n",
       "\n",
       "    .dataframe tbody tr th {\n",
       "        vertical-align: top;\n",
       "    }\n",
       "\n",
       "    .dataframe thead th {\n",
       "        text-align: right;\n",
       "    }\n",
       "</style>\n",
       "<table border=\"1\" class=\"dataframe\">\n",
       "  <thead>\n",
       "    <tr style=\"text-align: right;\">\n",
       "      <th></th>\n",
       "      <th>access</th>\n",
       "      <th>birth_year</th>\n",
       "      <th>country</th>\n",
       "      <th>gender</th>\n",
       "      <th>user_id</th>\n",
       "    </tr>\n",
       "  </thead>\n",
       "  <tbody>\n",
       "    <tr>\n",
       "      <th>0</th>\n",
       "      <td>free</td>\n",
       "      <td>1989</td>\n",
       "      <td>8</td>\n",
       "      <td>female</td>\n",
       "      <td>093449f2282b4e4793948bbc3e9f1fd7278c0c49</td>\n",
       "    </tr>\n",
       "    <tr>\n",
       "      <th>1</th>\n",
       "      <td>premium</td>\n",
       "      <td>2001</td>\n",
       "      <td>4</td>\n",
       "      <td>female</td>\n",
       "      <td>3e9603e5ab69c5cfe14dcc1954c46cd849940b24</td>\n",
       "    </tr>\n",
       "    <tr>\n",
       "      <th>2</th>\n",
       "      <td>premium</td>\n",
       "      <td>1988</td>\n",
       "      <td>52</td>\n",
       "      <td>female</td>\n",
       "      <td>c12f6f2784787619d91f61cf215480b70d47f36e</td>\n",
       "    </tr>\n",
       "    <tr>\n",
       "      <th>3</th>\n",
       "      <td>premium</td>\n",
       "      <td>1995</td>\n",
       "      <td>16</td>\n",
       "      <td>female</td>\n",
       "      <td>d55e6dc8e7fdd87d42b639ed27ca95795738308b</td>\n",
       "    </tr>\n",
       "    <tr>\n",
       "      <th>4</th>\n",
       "      <td>premium</td>\n",
       "      <td>1996</td>\n",
       "      <td>44</td>\n",
       "      <td>female</td>\n",
       "      <td>6b1867e55d95cd39f0b3eac38518fd11572e732f</td>\n",
       "    </tr>\n",
       "  </tbody>\n",
       "</table>\n",
       "</div>"
      ],
      "text/plain": [
       "    access birth_year  country  gender  \\\n",
       "0     free       1989        8  female   \n",
       "1  premium       2001        4  female   \n",
       "2  premium       1988       52  female   \n",
       "3  premium       1995       16  female   \n",
       "4  premium       1996       44  female   \n",
       "\n",
       "                                    user_id  \n",
       "0  093449f2282b4e4793948bbc3e9f1fd7278c0c49  \n",
       "1  3e9603e5ab69c5cfe14dcc1954c46cd849940b24  \n",
       "2  c12f6f2784787619d91f61cf215480b70d47f36e  \n",
       "3  d55e6dc8e7fdd87d42b639ed27ca95795738308b  \n",
       "4  6b1867e55d95cd39f0b3eac38518fd11572e732f  "
      ]
     },
     "execution_count": 6,
     "metadata": {},
     "output_type": "execute_result"
    }
   ],
   "source": [
    "users.head()"
   ]
  },
  {
   "cell_type": "markdown",
   "metadata": {},
   "source": [
    "# preprocessing"
   ]
  },
  {
   "cell_type": "code",
   "execution_count": 8,
   "metadata": {},
   "outputs": [],
   "source": [
    "users['abnormal'] = [0] * users.shape[0]"
   ]
  },
  {
   "cell_type": "code",
   "execution_count": 64,
   "metadata": {
    "collapsed": true
   },
   "outputs": [
    {
     "name": "stderr",
     "output_type": "stream",
     "text": [
      "/opt/conda/lib/python3.6/site-packages/pandas/core/indexing.py:194: SettingWithCopyWarning: \n",
      "A value is trying to be set on a copy of a slice from a DataFrame\n",
      "\n",
      "See the caveats in the documentation: http://pandas.pydata.org/pandas-docs/stable/indexing.html#indexing-view-versus-copy\n",
      "  self._setitem_with_indexer(indexer, value)\n"
     ]
    }
   ],
   "source": [
    "users['birth_year'].loc[users['birth_year']=='']=users['birth_year'].value_counts().index[0]\n",
    "users['birth_year'] = users['birth_year'].astype('int')"
   ]
  },
  {
   "cell_type": "code",
   "execution_count": 69,
   "metadata": {},
   "outputs": [],
   "source": [
    "y = users['abnormal']\n",
    "X = users.drop(['abnormal','user_id'], axis=1)\n",
    "for i in ['access', 'gender']:\n",
    "    le = preprocessing.LabelEncoder()\n",
    "    X[i] = le.fit_transform(X[i])\n",
    "X_train, X_test, y_train, y_test = train_test_split(X, y, test_size=.3, random_state=42)"
   ]
  },
  {
   "cell_type": "markdown",
   "metadata": {},
   "source": [
    "## model 1 : basic features\n",
    "use user profile as features"
   ]
  },
  {
   "cell_type": "code",
   "execution_count": 76,
   "metadata": {},
   "outputs": [
    {
     "data": {
      "text/plain": [
       "array([[529676,     13],\n",
       "       [  6636,      2]])"
      ]
     },
     "execution_count": 76,
     "metadata": {},
     "output_type": "execute_result"
    }
   ],
   "source": [
    "clf = RandomForestClassifier(n_jobs=10)\n",
    "clf.fit(X_train, y_train)\n",
    "clf.score(X_test, y_test)\n",
    "y_pred = clf.predict(X_test)\n",
    "confusion_matrix(y_test, y_pred)"
   ]
  },
  {
   "cell_type": "markdown",
   "metadata": {},
   "source": [
    "## model2:  add track preference features\n",
    "add user preference of track to classify abnormal user"
   ]
  },
  {
   "cell_type": "code",
   "execution_count": 89,
   "metadata": {},
   "outputs": [],
   "source": [
    "user_item =  pd.read_csv(os.path.join(data_path, 'user_item'))"
   ]
  },
  {
   "cell_type": "code",
   "execution_count": 84,
   "metadata": {},
   "outputs": [],
   "source": [
    "users = users.sort_values(by='user_id')"
   ]
  },
  {
   "cell_type": "code",
   "execution_count": 90,
   "metadata": {},
   "outputs": [],
   "source": [
    "users.reset_index(drop=True,inplace=True)\n",
    "user_item.reset_index(drop=True,inplace=True)"
   ]
  },
  {
   "cell_type": "code",
   "execution_count": 92,
   "metadata": {},
   "outputs": [],
   "source": [
    "user_item = pd.concat([users, user_item], axis=1, ignore_index=True)"
   ]
  },
  {
   "cell_type": "code",
   "execution_count": 96,
   "metadata": {},
   "outputs": [],
   "source": [
    "user_item.rename(columns={0: 'access',1:'birth_year',2:'country',3:'gender',4:'user_id',5:'abnormal',56:'user_id2'}, inplace=True)"
   ]
  },
  {
   "cell_type": "code",
   "execution_count": 98,
   "metadata": {},
   "outputs": [],
   "source": [
    "y = user_item['abnormal']\n",
    "X = user_item.drop(['user_id','user_id2','abnormal'],axis=1)\n",
    "for i in ['access', 'gender']:\n",
    "    le = preprocessing.LabelEncoder()\n",
    "    X[i] = le.fit_transform(X[i])\n",
    "X_train, X_test, y_train, y_test = train_test_split(X, y, test_size=.3, random_state=42)"
   ]
  },
  {
   "cell_type": "code",
   "execution_count": 99,
   "metadata": {},
   "outputs": [
    {
     "data": {
      "text/plain": [
       "array([[529124,    491],\n",
       "       [  6360,    352]])"
      ]
     },
     "execution_count": 99,
     "metadata": {},
     "output_type": "execute_result"
    }
   ],
   "source": [
    "clf = RandomForestClassifier(n_jobs=10)\n",
    "clf.fit(X_train, y_train)\n",
    "clf.score(X_test, y_test)\n",
    "y_pred = clf.predict(X_test)\n",
    "confusion_matrix(y_test, y_pred)"
   ]
  },
  {
   "cell_type": "markdown",
   "metadata": {},
   "source": [
    "### conclusion: add track preference get better result"
   ]
  },
  {
   "cell_type": "code",
   "execution_count": null,
   "metadata": {},
   "outputs": [],
   "source": []
  }
 ],
 "metadata": {
  "kernelspec": {
   "display_name": "Python 3",
   "language": "python",
   "name": "python3"
  },
  "language_info": {
   "codemirror_mode": {
    "name": "ipython",
    "version": 3
   },
   "file_extension": ".py",
   "mimetype": "text/x-python",
   "name": "python",
   "nbconvert_exporter": "python",
   "pygments_lexer": "ipython3",
   "version": "3.6.3"
  }
 },
 "nbformat": 4,
 "nbformat_minor": 2
}
